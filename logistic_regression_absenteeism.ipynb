{
 "cells": [
  {
   "cell_type": "markdown",
   "id": "7804cdc0",
   "metadata": {},
   "source": [
    "# Introduction\n",
    "The business environment of today is more competitive than in the past. This naturally means there is an increased pressure in the workplace. Additionally, unachievable business goals and an elevated risk of becoming unemployed can increase stress levels for individuals. The continuous presence of these factors can become deterimental to one's health. This can result in illness, both minor (cold, spasms etc) and long-term (depression). Both of these types of illness lead to absenteeism from work.\n",
    "\n",
    "Absenteeism is defined as the absence from work during normal working hours, resulting in temporary incapacity to execute regular working activity.\n",
    "\n",
    "# Problem:\n",
    "From the perspective of the manager(s) in charge of productivity. It can be important to predict the absenteeism from work. Additionally, it would be good to know how long we can expect someone to be missing from work.\n",
    "\n",
    "# Purpose\n",
    "Explore whether a person presenting certain characteristics is expected to be away from work at some point in time or not.\n",
    "\n",
    "Having the information in advance, the manager(s) can improve descision making in such a way to reorganise the work flow that will avoid a lack of productivity and increase the quality of work generated.\n",
    "\n",
    "# Resources\n",
    "Preproccessed Data (secondary) is obtained from the preprocessing_absenteeism.ipynb in the form of a .csv file.\n",
    "\n",
    "# Method\n",
    "## Import Packages\n",
    "## Load Preprocessed Data\n",
    "## Create the Targets for Logistic Regression\n",
    "## Select the Inputs\n",
    "## Scale the Inputs\n",
    "## Shuffle and Split the training and test data\n",
    "## Train the Model\n",
    "### Check the accuracy on the training manually\n",
    "## Summary Table\n",
    "## Interpretation\n",
    "## Backward Elimination\n",
    "## Test the model"
   ]
  },
  {
   "cell_type": "markdown",
   "id": "493aef68",
   "metadata": {},
   "source": [
    "## Import Packages"
   ]
  },
  {
   "cell_type": "code",
   "execution_count": 1,
   "id": "09573b7e",
   "metadata": {
    "ExecuteTime": {
     "end_time": "2021-08-02T21:28:20.975106Z",
     "start_time": "2021-08-02T21:28:20.634461Z"
    }
   },
   "outputs": [],
   "source": [
    "# import table and array packages\n",
    "import numpy as np\n",
    "import pandas as pd\n",
    "\n",
    "# import graphing packages\n",
    "import matplotlib.pyplot as plt\n",
    "import seaborn as sns\n",
    "\n",
    "# import ML packages\n",
    "from sklearn.preprocessing import StandardScaler\n",
    "from sklearn.model_selection import train_test_split\n",
    "from sklearn.linear_model import LogisticRegression\n",
    "from sklearn import metrics"
   ]
  },
  {
   "cell_type": "markdown",
   "id": "e3986a24",
   "metadata": {},
   "source": [
    "## Load Preprocessed Data"
   ]
  },
  {
   "cell_type": "code",
   "execution_count": 2,
   "id": "aef458a2",
   "metadata": {
    "ExecuteTime": {
     "end_time": "2021-08-02T21:28:21.006053Z",
     "start_time": "2021-08-02T21:28:20.977101Z"
    }
   },
   "outputs": [
    {
     "data": {
      "text/html": [
       "<div>\n",
       "<style scoped>\n",
       "    .dataframe tbody tr th:only-of-type {\n",
       "        vertical-align: middle;\n",
       "    }\n",
       "\n",
       "    .dataframe tbody tr th {\n",
       "        vertical-align: top;\n",
       "    }\n",
       "\n",
       "    .dataframe thead th {\n",
       "        text-align: right;\n",
       "    }\n",
       "</style>\n",
       "<table border=\"1\" class=\"dataframe\">\n",
       "  <thead>\n",
       "    <tr style=\"text-align: right;\">\n",
       "      <th></th>\n",
       "      <th>ID</th>\n",
       "      <th>Date</th>\n",
       "      <th>Reason 1</th>\n",
       "      <th>Reason 2</th>\n",
       "      <th>Reason 3</th>\n",
       "      <th>Reason 4</th>\n",
       "      <th>Transportation Expense</th>\n",
       "      <th>Distance to Work</th>\n",
       "      <th>Age</th>\n",
       "      <th>Daily Work Load Average</th>\n",
       "      <th>Body Mass Index</th>\n",
       "      <th>Education</th>\n",
       "      <th>Children</th>\n",
       "      <th>Pets</th>\n",
       "      <th>Absenteeism Time in Hours</th>\n",
       "      <th>Month</th>\n",
       "      <th>weekday</th>\n",
       "    </tr>\n",
       "  </thead>\n",
       "  <tbody>\n",
       "    <tr>\n",
       "      <th>0</th>\n",
       "      <td>11</td>\n",
       "      <td>2015-07-07</td>\n",
       "      <td>0</td>\n",
       "      <td>0</td>\n",
       "      <td>0</td>\n",
       "      <td>1</td>\n",
       "      <td>289</td>\n",
       "      <td>36</td>\n",
       "      <td>33</td>\n",
       "      <td>239.554</td>\n",
       "      <td>30</td>\n",
       "      <td>0</td>\n",
       "      <td>2</td>\n",
       "      <td>1</td>\n",
       "      <td>4</td>\n",
       "      <td>7</td>\n",
       "      <td>1</td>\n",
       "    </tr>\n",
       "    <tr>\n",
       "      <th>1</th>\n",
       "      <td>36</td>\n",
       "      <td>2015-07-14</td>\n",
       "      <td>0</td>\n",
       "      <td>0</td>\n",
       "      <td>0</td>\n",
       "      <td>0</td>\n",
       "      <td>118</td>\n",
       "      <td>13</td>\n",
       "      <td>50</td>\n",
       "      <td>239.554</td>\n",
       "      <td>31</td>\n",
       "      <td>0</td>\n",
       "      <td>1</td>\n",
       "      <td>0</td>\n",
       "      <td>0</td>\n",
       "      <td>7</td>\n",
       "      <td>1</td>\n",
       "    </tr>\n",
       "    <tr>\n",
       "      <th>2</th>\n",
       "      <td>3</td>\n",
       "      <td>2015-07-15</td>\n",
       "      <td>0</td>\n",
       "      <td>0</td>\n",
       "      <td>0</td>\n",
       "      <td>1</td>\n",
       "      <td>179</td>\n",
       "      <td>51</td>\n",
       "      <td>38</td>\n",
       "      <td>239.554</td>\n",
       "      <td>31</td>\n",
       "      <td>0</td>\n",
       "      <td>0</td>\n",
       "      <td>0</td>\n",
       "      <td>2</td>\n",
       "      <td>7</td>\n",
       "      <td>2</td>\n",
       "    </tr>\n",
       "    <tr>\n",
       "      <th>3</th>\n",
       "      <td>7</td>\n",
       "      <td>2015-07-16</td>\n",
       "      <td>1</td>\n",
       "      <td>0</td>\n",
       "      <td>0</td>\n",
       "      <td>0</td>\n",
       "      <td>279</td>\n",
       "      <td>5</td>\n",
       "      <td>39</td>\n",
       "      <td>239.554</td>\n",
       "      <td>24</td>\n",
       "      <td>0</td>\n",
       "      <td>2</td>\n",
       "      <td>0</td>\n",
       "      <td>4</td>\n",
       "      <td>7</td>\n",
       "      <td>3</td>\n",
       "    </tr>\n",
       "    <tr>\n",
       "      <th>4</th>\n",
       "      <td>11</td>\n",
       "      <td>2015-07-23</td>\n",
       "      <td>0</td>\n",
       "      <td>0</td>\n",
       "      <td>0</td>\n",
       "      <td>1</td>\n",
       "      <td>289</td>\n",
       "      <td>36</td>\n",
       "      <td>33</td>\n",
       "      <td>239.554</td>\n",
       "      <td>30</td>\n",
       "      <td>0</td>\n",
       "      <td>2</td>\n",
       "      <td>1</td>\n",
       "      <td>2</td>\n",
       "      <td>7</td>\n",
       "      <td>3</td>\n",
       "    </tr>\n",
       "    <tr>\n",
       "      <th>...</th>\n",
       "      <td>...</td>\n",
       "      <td>...</td>\n",
       "      <td>...</td>\n",
       "      <td>...</td>\n",
       "      <td>...</td>\n",
       "      <td>...</td>\n",
       "      <td>...</td>\n",
       "      <td>...</td>\n",
       "      <td>...</td>\n",
       "      <td>...</td>\n",
       "      <td>...</td>\n",
       "      <td>...</td>\n",
       "      <td>...</td>\n",
       "      <td>...</td>\n",
       "      <td>...</td>\n",
       "      <td>...</td>\n",
       "      <td>...</td>\n",
       "    </tr>\n",
       "    <tr>\n",
       "      <th>695</th>\n",
       "      <td>17</td>\n",
       "      <td>2018-05-23</td>\n",
       "      <td>1</td>\n",
       "      <td>0</td>\n",
       "      <td>0</td>\n",
       "      <td>0</td>\n",
       "      <td>179</td>\n",
       "      <td>22</td>\n",
       "      <td>40</td>\n",
       "      <td>237.656</td>\n",
       "      <td>22</td>\n",
       "      <td>1</td>\n",
       "      <td>2</td>\n",
       "      <td>0</td>\n",
       "      <td>8</td>\n",
       "      <td>5</td>\n",
       "      <td>2</td>\n",
       "    </tr>\n",
       "    <tr>\n",
       "      <th>696</th>\n",
       "      <td>28</td>\n",
       "      <td>2018-05-23</td>\n",
       "      <td>1</td>\n",
       "      <td>0</td>\n",
       "      <td>0</td>\n",
       "      <td>0</td>\n",
       "      <td>225</td>\n",
       "      <td>26</td>\n",
       "      <td>28</td>\n",
       "      <td>237.656</td>\n",
       "      <td>24</td>\n",
       "      <td>0</td>\n",
       "      <td>1</td>\n",
       "      <td>2</td>\n",
       "      <td>3</td>\n",
       "      <td>5</td>\n",
       "      <td>2</td>\n",
       "    </tr>\n",
       "    <tr>\n",
       "      <th>697</th>\n",
       "      <td>18</td>\n",
       "      <td>2018-05-24</td>\n",
       "      <td>1</td>\n",
       "      <td>0</td>\n",
       "      <td>0</td>\n",
       "      <td>0</td>\n",
       "      <td>330</td>\n",
       "      <td>16</td>\n",
       "      <td>28</td>\n",
       "      <td>237.656</td>\n",
       "      <td>25</td>\n",
       "      <td>1</td>\n",
       "      <td>0</td>\n",
       "      <td>0</td>\n",
       "      <td>8</td>\n",
       "      <td>5</td>\n",
       "      <td>3</td>\n",
       "    </tr>\n",
       "    <tr>\n",
       "      <th>698</th>\n",
       "      <td>25</td>\n",
       "      <td>2018-05-24</td>\n",
       "      <td>0</td>\n",
       "      <td>0</td>\n",
       "      <td>0</td>\n",
       "      <td>1</td>\n",
       "      <td>235</td>\n",
       "      <td>16</td>\n",
       "      <td>32</td>\n",
       "      <td>237.656</td>\n",
       "      <td>25</td>\n",
       "      <td>1</td>\n",
       "      <td>0</td>\n",
       "      <td>0</td>\n",
       "      <td>2</td>\n",
       "      <td>5</td>\n",
       "      <td>3</td>\n",
       "    </tr>\n",
       "    <tr>\n",
       "      <th>699</th>\n",
       "      <td>15</td>\n",
       "      <td>2018-05-31</td>\n",
       "      <td>0</td>\n",
       "      <td>0</td>\n",
       "      <td>0</td>\n",
       "      <td>1</td>\n",
       "      <td>291</td>\n",
       "      <td>31</td>\n",
       "      <td>40</td>\n",
       "      <td>237.656</td>\n",
       "      <td>25</td>\n",
       "      <td>0</td>\n",
       "      <td>1</td>\n",
       "      <td>1</td>\n",
       "      <td>2</td>\n",
       "      <td>5</td>\n",
       "      <td>3</td>\n",
       "    </tr>\n",
       "  </tbody>\n",
       "</table>\n",
       "<p>700 rows × 17 columns</p>\n",
       "</div>"
      ],
      "text/plain": [
       "     ID        Date  Reason 1  Reason 2  Reason 3  Reason 4  \\\n",
       "0    11  2015-07-07         0         0         0         1   \n",
       "1    36  2015-07-14         0         0         0         0   \n",
       "2     3  2015-07-15         0         0         0         1   \n",
       "3     7  2015-07-16         1         0         0         0   \n",
       "4    11  2015-07-23         0         0         0         1   \n",
       "..   ..         ...       ...       ...       ...       ...   \n",
       "695  17  2018-05-23         1         0         0         0   \n",
       "696  28  2018-05-23         1         0         0         0   \n",
       "697  18  2018-05-24         1         0         0         0   \n",
       "698  25  2018-05-24         0         0         0         1   \n",
       "699  15  2018-05-31         0         0         0         1   \n",
       "\n",
       "     Transportation Expense  Distance to Work  Age  Daily Work Load Average  \\\n",
       "0                       289                36   33                  239.554   \n",
       "1                       118                13   50                  239.554   \n",
       "2                       179                51   38                  239.554   \n",
       "3                       279                 5   39                  239.554   \n",
       "4                       289                36   33                  239.554   \n",
       "..                      ...               ...  ...                      ...   \n",
       "695                     179                22   40                  237.656   \n",
       "696                     225                26   28                  237.656   \n",
       "697                     330                16   28                  237.656   \n",
       "698                     235                16   32                  237.656   \n",
       "699                     291                31   40                  237.656   \n",
       "\n",
       "     Body Mass Index  Education  Children  Pets  Absenteeism Time in Hours  \\\n",
       "0                 30          0         2     1                          4   \n",
       "1                 31          0         1     0                          0   \n",
       "2                 31          0         0     0                          2   \n",
       "3                 24          0         2     0                          4   \n",
       "4                 30          0         2     1                          2   \n",
       "..               ...        ...       ...   ...                        ...   \n",
       "695               22          1         2     0                          8   \n",
       "696               24          0         1     2                          3   \n",
       "697               25          1         0     0                          8   \n",
       "698               25          1         0     0                          2   \n",
       "699               25          0         1     1                          2   \n",
       "\n",
       "     Month  weekday  \n",
       "0        7        1  \n",
       "1        7        1  \n",
       "2        7        2  \n",
       "3        7        3  \n",
       "4        7        3  \n",
       "..     ...      ...  \n",
       "695      5        2  \n",
       "696      5        2  \n",
       "697      5        3  \n",
       "698      5        3  \n",
       "699      5        3  \n",
       "\n",
       "[700 rows x 17 columns]"
      ]
     },
     "execution_count": 2,
     "metadata": {},
     "output_type": "execute_result"
    }
   ],
   "source": [
    "# Load the preprocessed data from the csv file\n",
    "preprocessed_data = pd.read_csv('Absenteeism_preprocessed.csv')\n",
    "preprocessed_data"
   ]
  },
  {
   "cell_type": "markdown",
   "id": "8c40df20",
   "metadata": {},
   "source": [
    "## Create the Targets for Logistic Regression\n",
    "Two classes will serve as the targets. A 'moderately absent' and an 'excessivly absent' class. The nature of logistic regression lends itself nicely to this type of classification.\n",
    "\n",
    "We will calculate the level of absenteeism using the following. The median of the 'Absenteeism Time in Hours' will be seperation between the two classes. This is numerically stable, but can be naive. Values below the median will be considered moderate and everything above will be considered excessive.\n",
    "\n",
    "The use of the median instead of the mean is that the targets are implicity balanced. This should prevent the model from only outputting 1s or 0s.\n",
    "\n",
    "We can remove the original column once one has been derived from it."
   ]
  },
  {
   "cell_type": "code",
   "execution_count": 3,
   "id": "19b66483",
   "metadata": {
    "ExecuteTime": {
     "end_time": "2021-08-02T21:28:21.100101Z",
     "start_time": "2021-08-02T21:28:21.008018Z"
    }
   },
   "outputs": [
    {
     "name": "stdout",
     "output_type": "stream",
     "text": [
      "3.0\n"
     ]
    }
   ],
   "source": [
    "# Calculate the median\n",
    "median = preprocessed_data['Absenteeism Time in Hours'].median()\n",
    "print(median)"
   ]
  },
  {
   "cell_type": "code",
   "execution_count": 4,
   "id": "0e90a85e",
   "metadata": {
    "ExecuteTime": {
     "end_time": "2021-08-02T21:28:21.193955Z",
     "start_time": "2021-08-02T21:28:21.100750Z"
    }
   },
   "outputs": [
    {
     "data": {
      "text/plain": [
       "array([1, 0, 0, 1, 0, 0, 1, 1, 1, 1, 1, 1, 1, 0, 1, 1, 0, 1, 1, 0, 1, 0,\n",
       "       1, 1, 1, 1, 0, 1, 1, 0, 1, 1, 1, 1, 0, 0, 1, 1, 1, 1, 0, 1, 1, 1,\n",
       "       0, 0, 0, 1, 1, 1, 0, 0, 0, 0, 0, 0, 0, 0, 0, 0, 0, 1, 0, 0, 0, 0,\n",
       "       0, 0, 0, 0, 0, 1, 1, 0, 1, 1, 0, 1, 0, 0, 0, 0, 1, 1, 1, 1, 1, 1,\n",
       "       0, 1, 0, 1, 0, 1, 0, 0, 1, 0, 0, 1, 0, 1, 0, 1, 1, 1, 0, 0, 0, 1,\n",
       "       0, 1, 0, 0, 0, 0, 1, 0, 0, 0, 0, 0, 0, 0, 0, 0, 0, 0, 0, 1, 1, 0,\n",
       "       0, 0, 0, 0, 0, 0, 1, 1, 0, 1, 0, 1, 1, 1, 0, 0, 0, 1, 0, 1, 0, 0,\n",
       "       1, 0, 1, 0, 1, 1, 1, 1, 0, 1, 1, 1, 1, 1, 1, 1, 1, 0, 1, 1, 0, 1,\n",
       "       0, 1, 1, 0, 1, 0, 0, 0, 0, 0, 0, 1, 0, 0, 1, 1, 0, 0, 1, 0, 1, 1,\n",
       "       1, 1, 1, 1, 0, 0, 1, 0, 0, 1, 1, 1, 0, 0, 1, 0, 0, 0, 0, 0, 1, 1,\n",
       "       1, 1, 1, 1, 1, 1, 1, 1, 1, 1, 0, 1, 1, 0, 0, 0, 1, 1, 1, 1, 1, 1,\n",
       "       0, 1, 1, 0, 1, 1, 1, 1, 1, 0, 1, 0, 0, 1, 0, 0, 1, 1, 0, 1, 0, 0,\n",
       "       0, 0, 0, 1, 1, 1, 1, 0, 1, 0, 1, 0, 0, 0, 1, 1, 0, 1, 1, 1, 0, 0,\n",
       "       0, 1, 1, 1, 1, 1, 1, 0, 0, 1, 0, 1, 0, 1, 0, 1, 0, 0, 0, 0, 0, 1,\n",
       "       1, 0, 1, 0, 0, 0, 1, 1, 0, 1, 0, 1, 0, 0, 1, 1, 1, 0, 0, 0, 0, 0,\n",
       "       1, 1, 1, 0, 1, 1, 0, 0, 0, 0, 0, 0, 0, 0, 1, 1, 0, 0, 0, 1, 0, 0,\n",
       "       1, 1, 1, 0, 0, 1, 1, 1, 0, 0, 1, 1, 1, 1, 1, 0, 0, 0, 0, 0, 0, 0,\n",
       "       0, 0, 0, 1, 1, 0, 1, 0, 0, 0, 1, 0, 0, 1, 0, 0, 1, 1, 0, 1, 0, 1,\n",
       "       1, 1, 1, 1, 0, 1, 0, 0, 1, 0, 0, 0, 1, 1, 1, 0, 1, 0, 1, 1, 1, 1,\n",
       "       1, 0, 1, 1, 1, 1, 0, 1, 0, 1, 0, 1, 0, 0, 0, 0, 1, 0, 1, 0, 0, 1,\n",
       "       0, 0, 0, 0, 1, 1, 0, 1, 1, 0, 1, 1, 0, 0, 0, 1, 0, 0, 0, 1, 0, 1,\n",
       "       1, 1, 1, 1, 1, 1, 1, 0, 0, 1, 0, 0, 1, 1, 1, 0, 0, 0, 1, 0, 1, 1,\n",
       "       1, 1, 1, 1, 1, 1, 1, 0, 1, 0, 0, 0, 0, 0, 0, 0, 1, 0, 1, 0, 0, 1,\n",
       "       1, 0, 0, 1, 0, 0, 0, 0, 0, 0, 1, 0, 1, 1, 0, 0, 0, 1, 0, 1, 0, 1,\n",
       "       1, 1, 0, 0, 0, 0, 1, 0, 1, 1, 1, 1, 1, 0, 0, 0, 0, 1, 1, 0, 0, 0,\n",
       "       1, 0, 0, 1, 0, 1, 0, 0, 0, 0, 0, 1, 0, 1, 1, 1, 0, 0, 0, 1, 1, 1,\n",
       "       0, 0, 0, 0, 1, 0, 0, 1, 0, 0, 1, 0, 0, 1, 0, 1, 0, 0, 0, 0, 0, 0,\n",
       "       0, 0, 1, 0, 0, 0, 0, 0, 0, 0, 0, 0, 1, 0, 1, 0, 0, 0, 0, 0, 0, 0,\n",
       "       0, 0, 0, 0, 0, 0, 1, 0, 0, 0, 0, 0, 0, 1, 1, 0, 0, 0, 1, 0, 0, 1,\n",
       "       0, 1, 0, 0, 0, 0, 0, 0, 0, 1, 1, 0, 0, 0, 1, 1, 1, 1, 1, 1, 1, 0,\n",
       "       1, 0, 0, 0, 0, 1, 0, 1, 0, 0, 1, 1, 0, 0, 1, 0, 0, 0, 1, 0, 0, 1,\n",
       "       1, 1, 0, 0, 0, 0, 0, 0, 0, 0, 1, 1, 1, 1, 0, 1, 0, 0])"
      ]
     },
     "execution_count": 4,
     "metadata": {},
     "output_type": "execute_result"
    }
   ],
   "source": [
    "# Set the targets to be 1 if higher than 3 and 0 if lower and equal to 3\n",
    "targets = np.where(preprocessed_data['Absenteeism Time in Hours']<=median,0,1)\n",
    "targets"
   ]
  },
  {
   "cell_type": "code",
   "execution_count": 5,
   "id": "cdc245b3",
   "metadata": {
    "ExecuteTime": {
     "end_time": "2021-08-02T21:28:21.332380Z",
     "start_time": "2021-08-02T21:28:21.194927Z"
    }
   },
   "outputs": [
    {
     "data": {
      "text/plain": [
       "0.45571428571428574"
      ]
     },
     "execution_count": 5,
     "metadata": {},
     "output_type": "execute_result"
    }
   ],
   "source": [
    "# Check for balance\n",
    "targets.sum() / targets.shape[0]"
   ]
  },
  {
   "cell_type": "markdown",
   "id": "f4859285",
   "metadata": {},
   "source": [
    "The balance is sufficient for logistic regression between 45-55 percent."
   ]
  },
  {
   "cell_type": "markdown",
   "id": "1d2386e6",
   "metadata": {},
   "source": [
    "### Checkpoint 1"
   ]
  },
  {
   "cell_type": "code",
   "execution_count": 6,
   "id": "a376b8d8",
   "metadata": {
    "ExecuteTime": {
     "end_time": "2021-08-02T21:28:21.487946Z",
     "start_time": "2021-08-02T21:28:21.335372Z"
    }
   },
   "outputs": [],
   "source": [
    "# Add targets to the dataframe\n",
    "preprocessed_data['Excessive Absenteeism'] = targets\n",
    "# Checkpoint 1\n",
    "targeted_data = preprocessed_data.drop(['Absenteeism Time in Hours'], axis = 1)"
   ]
  },
  {
   "cell_type": "code",
   "execution_count": 7,
   "id": "64708ec4",
   "metadata": {
    "ExecuteTime": {
     "end_time": "2021-08-02T21:28:21.596443Z",
     "start_time": "2021-08-02T21:28:21.490911Z"
    }
   },
   "outputs": [
    {
     "data": {
      "text/html": [
       "<div>\n",
       "<style scoped>\n",
       "    .dataframe tbody tr th:only-of-type {\n",
       "        vertical-align: middle;\n",
       "    }\n",
       "\n",
       "    .dataframe tbody tr th {\n",
       "        vertical-align: top;\n",
       "    }\n",
       "\n",
       "    .dataframe thead th {\n",
       "        text-align: right;\n",
       "    }\n",
       "</style>\n",
       "<table border=\"1\" class=\"dataframe\">\n",
       "  <thead>\n",
       "    <tr style=\"text-align: right;\">\n",
       "      <th></th>\n",
       "      <th>ID</th>\n",
       "      <th>Date</th>\n",
       "      <th>Reason 1</th>\n",
       "      <th>Reason 2</th>\n",
       "      <th>Reason 3</th>\n",
       "      <th>Reason 4</th>\n",
       "      <th>Transportation Expense</th>\n",
       "      <th>Distance to Work</th>\n",
       "      <th>Age</th>\n",
       "      <th>Daily Work Load Average</th>\n",
       "      <th>Body Mass Index</th>\n",
       "      <th>Education</th>\n",
       "      <th>Children</th>\n",
       "      <th>Pets</th>\n",
       "      <th>Month</th>\n",
       "      <th>weekday</th>\n",
       "      <th>Excessive Absenteeism</th>\n",
       "    </tr>\n",
       "  </thead>\n",
       "  <tbody>\n",
       "    <tr>\n",
       "      <th>0</th>\n",
       "      <td>11</td>\n",
       "      <td>2015-07-07</td>\n",
       "      <td>0</td>\n",
       "      <td>0</td>\n",
       "      <td>0</td>\n",
       "      <td>1</td>\n",
       "      <td>289</td>\n",
       "      <td>36</td>\n",
       "      <td>33</td>\n",
       "      <td>239.554</td>\n",
       "      <td>30</td>\n",
       "      <td>0</td>\n",
       "      <td>2</td>\n",
       "      <td>1</td>\n",
       "      <td>7</td>\n",
       "      <td>1</td>\n",
       "      <td>1</td>\n",
       "    </tr>\n",
       "    <tr>\n",
       "      <th>1</th>\n",
       "      <td>36</td>\n",
       "      <td>2015-07-14</td>\n",
       "      <td>0</td>\n",
       "      <td>0</td>\n",
       "      <td>0</td>\n",
       "      <td>0</td>\n",
       "      <td>118</td>\n",
       "      <td>13</td>\n",
       "      <td>50</td>\n",
       "      <td>239.554</td>\n",
       "      <td>31</td>\n",
       "      <td>0</td>\n",
       "      <td>1</td>\n",
       "      <td>0</td>\n",
       "      <td>7</td>\n",
       "      <td>1</td>\n",
       "      <td>0</td>\n",
       "    </tr>\n",
       "    <tr>\n",
       "      <th>2</th>\n",
       "      <td>3</td>\n",
       "      <td>2015-07-15</td>\n",
       "      <td>0</td>\n",
       "      <td>0</td>\n",
       "      <td>0</td>\n",
       "      <td>1</td>\n",
       "      <td>179</td>\n",
       "      <td>51</td>\n",
       "      <td>38</td>\n",
       "      <td>239.554</td>\n",
       "      <td>31</td>\n",
       "      <td>0</td>\n",
       "      <td>0</td>\n",
       "      <td>0</td>\n",
       "      <td>7</td>\n",
       "      <td>2</td>\n",
       "      <td>0</td>\n",
       "    </tr>\n",
       "    <tr>\n",
       "      <th>3</th>\n",
       "      <td>7</td>\n",
       "      <td>2015-07-16</td>\n",
       "      <td>1</td>\n",
       "      <td>0</td>\n",
       "      <td>0</td>\n",
       "      <td>0</td>\n",
       "      <td>279</td>\n",
       "      <td>5</td>\n",
       "      <td>39</td>\n",
       "      <td>239.554</td>\n",
       "      <td>24</td>\n",
       "      <td>0</td>\n",
       "      <td>2</td>\n",
       "      <td>0</td>\n",
       "      <td>7</td>\n",
       "      <td>3</td>\n",
       "      <td>1</td>\n",
       "    </tr>\n",
       "    <tr>\n",
       "      <th>4</th>\n",
       "      <td>11</td>\n",
       "      <td>2015-07-23</td>\n",
       "      <td>0</td>\n",
       "      <td>0</td>\n",
       "      <td>0</td>\n",
       "      <td>1</td>\n",
       "      <td>289</td>\n",
       "      <td>36</td>\n",
       "      <td>33</td>\n",
       "      <td>239.554</td>\n",
       "      <td>30</td>\n",
       "      <td>0</td>\n",
       "      <td>2</td>\n",
       "      <td>1</td>\n",
       "      <td>7</td>\n",
       "      <td>3</td>\n",
       "      <td>0</td>\n",
       "    </tr>\n",
       "    <tr>\n",
       "      <th>...</th>\n",
       "      <td>...</td>\n",
       "      <td>...</td>\n",
       "      <td>...</td>\n",
       "      <td>...</td>\n",
       "      <td>...</td>\n",
       "      <td>...</td>\n",
       "      <td>...</td>\n",
       "      <td>...</td>\n",
       "      <td>...</td>\n",
       "      <td>...</td>\n",
       "      <td>...</td>\n",
       "      <td>...</td>\n",
       "      <td>...</td>\n",
       "      <td>...</td>\n",
       "      <td>...</td>\n",
       "      <td>...</td>\n",
       "      <td>...</td>\n",
       "    </tr>\n",
       "    <tr>\n",
       "      <th>695</th>\n",
       "      <td>17</td>\n",
       "      <td>2018-05-23</td>\n",
       "      <td>1</td>\n",
       "      <td>0</td>\n",
       "      <td>0</td>\n",
       "      <td>0</td>\n",
       "      <td>179</td>\n",
       "      <td>22</td>\n",
       "      <td>40</td>\n",
       "      <td>237.656</td>\n",
       "      <td>22</td>\n",
       "      <td>1</td>\n",
       "      <td>2</td>\n",
       "      <td>0</td>\n",
       "      <td>5</td>\n",
       "      <td>2</td>\n",
       "      <td>1</td>\n",
       "    </tr>\n",
       "    <tr>\n",
       "      <th>696</th>\n",
       "      <td>28</td>\n",
       "      <td>2018-05-23</td>\n",
       "      <td>1</td>\n",
       "      <td>0</td>\n",
       "      <td>0</td>\n",
       "      <td>0</td>\n",
       "      <td>225</td>\n",
       "      <td>26</td>\n",
       "      <td>28</td>\n",
       "      <td>237.656</td>\n",
       "      <td>24</td>\n",
       "      <td>0</td>\n",
       "      <td>1</td>\n",
       "      <td>2</td>\n",
       "      <td>5</td>\n",
       "      <td>2</td>\n",
       "      <td>0</td>\n",
       "    </tr>\n",
       "    <tr>\n",
       "      <th>697</th>\n",
       "      <td>18</td>\n",
       "      <td>2018-05-24</td>\n",
       "      <td>1</td>\n",
       "      <td>0</td>\n",
       "      <td>0</td>\n",
       "      <td>0</td>\n",
       "      <td>330</td>\n",
       "      <td>16</td>\n",
       "      <td>28</td>\n",
       "      <td>237.656</td>\n",
       "      <td>25</td>\n",
       "      <td>1</td>\n",
       "      <td>0</td>\n",
       "      <td>0</td>\n",
       "      <td>5</td>\n",
       "      <td>3</td>\n",
       "      <td>1</td>\n",
       "    </tr>\n",
       "    <tr>\n",
       "      <th>698</th>\n",
       "      <td>25</td>\n",
       "      <td>2018-05-24</td>\n",
       "      <td>0</td>\n",
       "      <td>0</td>\n",
       "      <td>0</td>\n",
       "      <td>1</td>\n",
       "      <td>235</td>\n",
       "      <td>16</td>\n",
       "      <td>32</td>\n",
       "      <td>237.656</td>\n",
       "      <td>25</td>\n",
       "      <td>1</td>\n",
       "      <td>0</td>\n",
       "      <td>0</td>\n",
       "      <td>5</td>\n",
       "      <td>3</td>\n",
       "      <td>0</td>\n",
       "    </tr>\n",
       "    <tr>\n",
       "      <th>699</th>\n",
       "      <td>15</td>\n",
       "      <td>2018-05-31</td>\n",
       "      <td>0</td>\n",
       "      <td>0</td>\n",
       "      <td>0</td>\n",
       "      <td>1</td>\n",
       "      <td>291</td>\n",
       "      <td>31</td>\n",
       "      <td>40</td>\n",
       "      <td>237.656</td>\n",
       "      <td>25</td>\n",
       "      <td>0</td>\n",
       "      <td>1</td>\n",
       "      <td>1</td>\n",
       "      <td>5</td>\n",
       "      <td>3</td>\n",
       "      <td>0</td>\n",
       "    </tr>\n",
       "  </tbody>\n",
       "</table>\n",
       "<p>700 rows × 17 columns</p>\n",
       "</div>"
      ],
      "text/plain": [
       "     ID        Date  Reason 1  Reason 2  Reason 3  Reason 4  \\\n",
       "0    11  2015-07-07         0         0         0         1   \n",
       "1    36  2015-07-14         0         0         0         0   \n",
       "2     3  2015-07-15         0         0         0         1   \n",
       "3     7  2015-07-16         1         0         0         0   \n",
       "4    11  2015-07-23         0         0         0         1   \n",
       "..   ..         ...       ...       ...       ...       ...   \n",
       "695  17  2018-05-23         1         0         0         0   \n",
       "696  28  2018-05-23         1         0         0         0   \n",
       "697  18  2018-05-24         1         0         0         0   \n",
       "698  25  2018-05-24         0         0         0         1   \n",
       "699  15  2018-05-31         0         0         0         1   \n",
       "\n",
       "     Transportation Expense  Distance to Work  Age  Daily Work Load Average  \\\n",
       "0                       289                36   33                  239.554   \n",
       "1                       118                13   50                  239.554   \n",
       "2                       179                51   38                  239.554   \n",
       "3                       279                 5   39                  239.554   \n",
       "4                       289                36   33                  239.554   \n",
       "..                      ...               ...  ...                      ...   \n",
       "695                     179                22   40                  237.656   \n",
       "696                     225                26   28                  237.656   \n",
       "697                     330                16   28                  237.656   \n",
       "698                     235                16   32                  237.656   \n",
       "699                     291                31   40                  237.656   \n",
       "\n",
       "     Body Mass Index  Education  Children  Pets  Month  weekday  \\\n",
       "0                 30          0         2     1      7        1   \n",
       "1                 31          0         1     0      7        1   \n",
       "2                 31          0         0     0      7        2   \n",
       "3                 24          0         2     0      7        3   \n",
       "4                 30          0         2     1      7        3   \n",
       "..               ...        ...       ...   ...    ...      ...   \n",
       "695               22          1         2     0      5        2   \n",
       "696               24          0         1     2      5        2   \n",
       "697               25          1         0     0      5        3   \n",
       "698               25          1         0     0      5        3   \n",
       "699               25          0         1     1      5        3   \n",
       "\n",
       "     Excessive Absenteeism  \n",
       "0                        1  \n",
       "1                        0  \n",
       "2                        0  \n",
       "3                        1  \n",
       "4                        0  \n",
       "..                     ...  \n",
       "695                      1  \n",
       "696                      0  \n",
       "697                      1  \n",
       "698                      0  \n",
       "699                      0  \n",
       "\n",
       "[700 rows x 17 columns]"
      ]
     },
     "execution_count": 7,
     "metadata": {},
     "output_type": "execute_result"
    }
   ],
   "source": [
    "targeted_data"
   ]
  },
  {
   "cell_type": "markdown",
   "id": "6e32646a",
   "metadata": {},
   "source": [
    "## Select the Inputs"
   ]
  },
  {
   "cell_type": "code",
   "execution_count": 8,
   "id": "e5ae9c09",
   "metadata": {
    "ExecuteTime": {
     "end_time": "2021-08-02T21:28:21.722205Z",
     "start_time": "2021-08-02T21:28:21.598428Z"
    }
   },
   "outputs": [
    {
     "data": {
      "text/plain": [
       "array(['ID', 'Date', 'Reason 1', 'Reason 2', 'Reason 3', 'Reason 4',\n",
       "       'Transportation Expense', 'Distance to Work', 'Age',\n",
       "       'Daily Work Load Average', 'Body Mass Index', 'Education',\n",
       "       'Children', 'Pets', 'Month', 'weekday', 'Excessive Absenteeism'],\n",
       "      dtype=object)"
      ]
     },
     "execution_count": 8,
     "metadata": {},
     "output_type": "execute_result"
    }
   ],
   "source": [
    "col_list = targeted_data.columns.values\n",
    "col_list"
   ]
  },
  {
   "cell_type": "code",
   "execution_count": 9,
   "id": "9b2b3777",
   "metadata": {
    "ExecuteTime": {
     "end_time": "2021-08-02T21:28:21.815688Z",
     "start_time": "2021-08-02T21:28:21.724204Z"
    }
   },
   "outputs": [
    {
     "data": {
      "text/html": [
       "<div>\n",
       "<style scoped>\n",
       "    .dataframe tbody tr th:only-of-type {\n",
       "        vertical-align: middle;\n",
       "    }\n",
       "\n",
       "    .dataframe tbody tr th {\n",
       "        vertical-align: top;\n",
       "    }\n",
       "\n",
       "    .dataframe thead th {\n",
       "        text-align: right;\n",
       "    }\n",
       "</style>\n",
       "<table border=\"1\" class=\"dataframe\">\n",
       "  <thead>\n",
       "    <tr style=\"text-align: right;\">\n",
       "      <th></th>\n",
       "      <th>Transportation Expense</th>\n",
       "      <th>Age</th>\n",
       "      <th>Body Mass Index</th>\n",
       "      <th>Children</th>\n",
       "      <th>Pets</th>\n",
       "      <th>Month</th>\n",
       "    </tr>\n",
       "  </thead>\n",
       "  <tbody>\n",
       "    <tr>\n",
       "      <th>0</th>\n",
       "      <td>289</td>\n",
       "      <td>33</td>\n",
       "      <td>30</td>\n",
       "      <td>2</td>\n",
       "      <td>1</td>\n",
       "      <td>7</td>\n",
       "    </tr>\n",
       "    <tr>\n",
       "      <th>1</th>\n",
       "      <td>118</td>\n",
       "      <td>50</td>\n",
       "      <td>31</td>\n",
       "      <td>1</td>\n",
       "      <td>0</td>\n",
       "      <td>7</td>\n",
       "    </tr>\n",
       "    <tr>\n",
       "      <th>2</th>\n",
       "      <td>179</td>\n",
       "      <td>38</td>\n",
       "      <td>31</td>\n",
       "      <td>0</td>\n",
       "      <td>0</td>\n",
       "      <td>7</td>\n",
       "    </tr>\n",
       "    <tr>\n",
       "      <th>3</th>\n",
       "      <td>279</td>\n",
       "      <td>39</td>\n",
       "      <td>24</td>\n",
       "      <td>2</td>\n",
       "      <td>0</td>\n",
       "      <td>7</td>\n",
       "    </tr>\n",
       "    <tr>\n",
       "      <th>4</th>\n",
       "      <td>289</td>\n",
       "      <td>33</td>\n",
       "      <td>30</td>\n",
       "      <td>2</td>\n",
       "      <td>1</td>\n",
       "      <td>7</td>\n",
       "    </tr>\n",
       "    <tr>\n",
       "      <th>...</th>\n",
       "      <td>...</td>\n",
       "      <td>...</td>\n",
       "      <td>...</td>\n",
       "      <td>...</td>\n",
       "      <td>...</td>\n",
       "      <td>...</td>\n",
       "    </tr>\n",
       "    <tr>\n",
       "      <th>695</th>\n",
       "      <td>179</td>\n",
       "      <td>40</td>\n",
       "      <td>22</td>\n",
       "      <td>2</td>\n",
       "      <td>0</td>\n",
       "      <td>5</td>\n",
       "    </tr>\n",
       "    <tr>\n",
       "      <th>696</th>\n",
       "      <td>225</td>\n",
       "      <td>28</td>\n",
       "      <td>24</td>\n",
       "      <td>1</td>\n",
       "      <td>2</td>\n",
       "      <td>5</td>\n",
       "    </tr>\n",
       "    <tr>\n",
       "      <th>697</th>\n",
       "      <td>330</td>\n",
       "      <td>28</td>\n",
       "      <td>25</td>\n",
       "      <td>0</td>\n",
       "      <td>0</td>\n",
       "      <td>5</td>\n",
       "    </tr>\n",
       "    <tr>\n",
       "      <th>698</th>\n",
       "      <td>235</td>\n",
       "      <td>32</td>\n",
       "      <td>25</td>\n",
       "      <td>0</td>\n",
       "      <td>0</td>\n",
       "      <td>5</td>\n",
       "    </tr>\n",
       "    <tr>\n",
       "      <th>699</th>\n",
       "      <td>291</td>\n",
       "      <td>40</td>\n",
       "      <td>25</td>\n",
       "      <td>1</td>\n",
       "      <td>1</td>\n",
       "      <td>5</td>\n",
       "    </tr>\n",
       "  </tbody>\n",
       "</table>\n",
       "<p>700 rows × 6 columns</p>\n",
       "</div>"
      ],
      "text/plain": [
       "     Transportation Expense  Age  Body Mass Index  Children  Pets  Month\n",
       "0                       289   33               30         2     1      7\n",
       "1                       118   50               31         1     0      7\n",
       "2                       179   38               31         0     0      7\n",
       "3                       279   39               24         2     0      7\n",
       "4                       289   33               30         2     1      7\n",
       "..                      ...  ...              ...       ...   ...    ...\n",
       "695                     179   40               22         2     0      5\n",
       "696                     225   28               24         1     2      5\n",
       "697                     330   28               25         0     0      5\n",
       "698                     235   32               25         0     0      5\n",
       "699                     291   40               25         1     1      5\n",
       "\n",
       "[700 rows x 6 columns]"
      ]
     },
     "execution_count": 9,
     "metadata": {},
     "output_type": "execute_result"
    }
   ],
   "source": [
    "col_list = targeted_data.columns\n",
    "\n",
    "exclude_list = [\n",
    "    'Excessive Absenteeism','Reason 1', 'Reason 2',\n",
    "    'Reason 3', 'Reason 4', 'Education',\n",
    "    'Daily Work Load Average','Distance to Work','Date', 'weekday', 'ID']\n",
    "\n",
    "scale_list = [x for x in col_list if x not in exclude_list]\n",
    "\n",
    "to_scale_data = targeted_data[scale_list]\n",
    "to_scale_data"
   ]
  },
  {
   "cell_type": "markdown",
   "id": "885d2046",
   "metadata": {},
   "source": [
    "## Scale the Inputs"
   ]
  },
  {
   "cell_type": "code",
   "execution_count": 10,
   "id": "b5babbce",
   "metadata": {
    "ExecuteTime": {
     "end_time": "2021-08-02T21:28:21.938371Z",
     "start_time": "2021-08-02T21:28:21.816697Z"
    }
   },
   "outputs": [],
   "source": [
    "# instantiate the scaler\n",
    "# this scaler subtracts the mean and divides by the STDEV\n",
    "scaler = StandardScaler()"
   ]
  },
  {
   "cell_type": "code",
   "execution_count": 11,
   "id": "406f21c8",
   "metadata": {
    "ExecuteTime": {
     "end_time": "2021-08-02T21:28:22.031078Z",
     "start_time": "2021-08-02T21:28:21.940367Z"
    }
   },
   "outputs": [
    {
     "data": {
      "text/plain": [
       "StandardScaler()"
      ]
     },
     "execution_count": 11,
     "metadata": {},
     "output_type": "execute_result"
    }
   ],
   "source": [
    "# prepare the mechanism\n",
    "scaler.fit(to_scale_data)"
   ]
  },
  {
   "cell_type": "code",
   "execution_count": 12,
   "id": "0101a80f",
   "metadata": {
    "ExecuteTime": {
     "end_time": "2021-08-02T21:28:22.140970Z",
     "start_time": "2021-08-02T21:28:22.033045Z"
    }
   },
   "outputs": [],
   "source": [
    "# transform the inputs\n",
    "scaled_input = scaler.transform(to_scale_data)\n",
    "\n",
    "# if we recieve new data we can apply the transform method directly"
   ]
  },
  {
   "cell_type": "code",
   "execution_count": 13,
   "id": "fd9f1404",
   "metadata": {
    "ExecuteTime": {
     "end_time": "2021-08-02T21:28:22.249367Z",
     "start_time": "2021-08-02T21:28:22.142964Z"
    }
   },
   "outputs": [
    {
     "data": {
      "text/plain": [
       "array([[ 1.00584437, -0.53606239,  0.76743118,  0.88046927,  0.26848661,\n",
       "         0.18272635],\n",
       "       [-1.57468098,  2.13080317,  1.00263338, -0.01928035, -0.58968976,\n",
       "         0.18272635],\n",
       "       [-0.6541427 ,  0.24830984,  1.00263338, -0.91902997, -0.58968976,\n",
       "         0.18272635],\n",
       "       ...,\n",
       "       [ 1.62456682, -1.32043461, -0.40857982, -0.91902997, -0.58968976,\n",
       "        -0.3882935 ],\n",
       "       [ 0.19094163, -0.69293683, -0.40857982, -0.91902997, -0.58968976,\n",
       "        -0.3882935 ],\n",
       "       [ 1.03602595,  0.56205873, -0.40857982, -0.01928035,  0.26848661,\n",
       "        -0.3882935 ]])"
      ]
     },
     "execution_count": 13,
     "metadata": {},
     "output_type": "execute_result"
    }
   ],
   "source": [
    "scaled_input"
   ]
  },
  {
   "cell_type": "code",
   "execution_count": 14,
   "id": "382e1638",
   "metadata": {
    "ExecuteTime": {
     "end_time": "2021-08-02T21:28:22.358655Z",
     "start_time": "2021-08-02T21:28:22.251334Z"
    }
   },
   "outputs": [
    {
     "data": {
      "text/plain": [
       "(700, 6)"
      ]
     },
     "execution_count": 14,
     "metadata": {},
     "output_type": "execute_result"
    }
   ],
   "source": [
    "scaled_input.shape"
   ]
  },
  {
   "cell_type": "code",
   "execution_count": 15,
   "id": "357026c8",
   "metadata": {
    "ExecuteTime": {
     "end_time": "2021-08-02T21:28:22.469154Z",
     "start_time": "2021-08-02T21:28:22.360649Z"
    }
   },
   "outputs": [],
   "source": [
    "scaled_input = pd.DataFrame(scaled_input, columns=scale_list)"
   ]
  },
  {
   "cell_type": "code",
   "execution_count": 16,
   "id": "d1374209",
   "metadata": {
    "ExecuteTime": {
     "end_time": "2021-08-02T21:28:22.578500Z",
     "start_time": "2021-08-02T21:28:22.471152Z"
    }
   },
   "outputs": [],
   "source": [
    "# Notice that the dummy variables are still needed. \n",
    "# Include the dummy variables from a previous frame\n",
    "scaled_input['Reason 1'] = targeted_data['Reason 1']\n",
    "scaled_input['Reason 2'] = targeted_data['Reason 2']\n",
    "scaled_input['Reason 3'] = targeted_data['Reason 3']\n",
    "scaled_input['Reason 4'] = targeted_data['Reason 4']\n",
    "scaled_input['Education'] = targeted_data['Education']\n",
    "#Include the ID for identification purposes\n",
    "scaled_input['ID'] = targeted_data['ID']\n",
    "#Include the Date\n",
    "scaled_input['Date'] = targeted_data['Date']\n",
    "#Include the Targets\n",
    "scaled_input['Excessive Absenteeism'] = targeted_data['Excessive Absenteeism']\n",
    "\n"
   ]
  },
  {
   "cell_type": "code",
   "execution_count": 17,
   "id": "c1c21d06",
   "metadata": {
    "ExecuteTime": {
     "end_time": "2021-08-02T21:28:22.703058Z",
     "start_time": "2021-08-02T21:28:22.579500Z"
    }
   },
   "outputs": [
    {
     "data": {
      "text/html": [
       "<div>\n",
       "<style scoped>\n",
       "    .dataframe tbody tr th:only-of-type {\n",
       "        vertical-align: middle;\n",
       "    }\n",
       "\n",
       "    .dataframe tbody tr th {\n",
       "        vertical-align: top;\n",
       "    }\n",
       "\n",
       "    .dataframe thead th {\n",
       "        text-align: right;\n",
       "    }\n",
       "</style>\n",
       "<table border=\"1\" class=\"dataframe\">\n",
       "  <thead>\n",
       "    <tr style=\"text-align: right;\">\n",
       "      <th></th>\n",
       "      <th>Transportation Expense</th>\n",
       "      <th>Age</th>\n",
       "      <th>Body Mass Index</th>\n",
       "      <th>Children</th>\n",
       "      <th>Pets</th>\n",
       "      <th>Month</th>\n",
       "      <th>Reason 1</th>\n",
       "      <th>Reason 2</th>\n",
       "      <th>Reason 3</th>\n",
       "      <th>Reason 4</th>\n",
       "      <th>Education</th>\n",
       "      <th>ID</th>\n",
       "      <th>Date</th>\n",
       "    </tr>\n",
       "  </thead>\n",
       "  <tbody>\n",
       "    <tr>\n",
       "      <th>0</th>\n",
       "      <td>1.005844</td>\n",
       "      <td>-0.536062</td>\n",
       "      <td>0.767431</td>\n",
       "      <td>0.880469</td>\n",
       "      <td>0.268487</td>\n",
       "      <td>0.182726</td>\n",
       "      <td>0</td>\n",
       "      <td>0</td>\n",
       "      <td>0</td>\n",
       "      <td>1</td>\n",
       "      <td>0</td>\n",
       "      <td>11</td>\n",
       "      <td>2015-07-07</td>\n",
       "    </tr>\n",
       "    <tr>\n",
       "      <th>1</th>\n",
       "      <td>-1.574681</td>\n",
       "      <td>2.130803</td>\n",
       "      <td>1.002633</td>\n",
       "      <td>-0.019280</td>\n",
       "      <td>-0.589690</td>\n",
       "      <td>0.182726</td>\n",
       "      <td>0</td>\n",
       "      <td>0</td>\n",
       "      <td>0</td>\n",
       "      <td>0</td>\n",
       "      <td>0</td>\n",
       "      <td>36</td>\n",
       "      <td>2015-07-14</td>\n",
       "    </tr>\n",
       "    <tr>\n",
       "      <th>2</th>\n",
       "      <td>-0.654143</td>\n",
       "      <td>0.248310</td>\n",
       "      <td>1.002633</td>\n",
       "      <td>-0.919030</td>\n",
       "      <td>-0.589690</td>\n",
       "      <td>0.182726</td>\n",
       "      <td>0</td>\n",
       "      <td>0</td>\n",
       "      <td>0</td>\n",
       "      <td>1</td>\n",
       "      <td>0</td>\n",
       "      <td>3</td>\n",
       "      <td>2015-07-15</td>\n",
       "    </tr>\n",
       "    <tr>\n",
       "      <th>3</th>\n",
       "      <td>0.854936</td>\n",
       "      <td>0.405184</td>\n",
       "      <td>-0.643782</td>\n",
       "      <td>0.880469</td>\n",
       "      <td>-0.589690</td>\n",
       "      <td>0.182726</td>\n",
       "      <td>1</td>\n",
       "      <td>0</td>\n",
       "      <td>0</td>\n",
       "      <td>0</td>\n",
       "      <td>0</td>\n",
       "      <td>7</td>\n",
       "      <td>2015-07-16</td>\n",
       "    </tr>\n",
       "    <tr>\n",
       "      <th>4</th>\n",
       "      <td>1.005844</td>\n",
       "      <td>-0.536062</td>\n",
       "      <td>0.767431</td>\n",
       "      <td>0.880469</td>\n",
       "      <td>0.268487</td>\n",
       "      <td>0.182726</td>\n",
       "      <td>0</td>\n",
       "      <td>0</td>\n",
       "      <td>0</td>\n",
       "      <td>1</td>\n",
       "      <td>0</td>\n",
       "      <td>11</td>\n",
       "      <td>2015-07-23</td>\n",
       "    </tr>\n",
       "    <tr>\n",
       "      <th>...</th>\n",
       "      <td>...</td>\n",
       "      <td>...</td>\n",
       "      <td>...</td>\n",
       "      <td>...</td>\n",
       "      <td>...</td>\n",
       "      <td>...</td>\n",
       "      <td>...</td>\n",
       "      <td>...</td>\n",
       "      <td>...</td>\n",
       "      <td>...</td>\n",
       "      <td>...</td>\n",
       "      <td>...</td>\n",
       "      <td>...</td>\n",
       "    </tr>\n",
       "    <tr>\n",
       "      <th>695</th>\n",
       "      <td>-0.654143</td>\n",
       "      <td>0.562059</td>\n",
       "      <td>-1.114186</td>\n",
       "      <td>0.880469</td>\n",
       "      <td>-0.589690</td>\n",
       "      <td>-0.388293</td>\n",
       "      <td>1</td>\n",
       "      <td>0</td>\n",
       "      <td>0</td>\n",
       "      <td>0</td>\n",
       "      <td>1</td>\n",
       "      <td>17</td>\n",
       "      <td>2018-05-23</td>\n",
       "    </tr>\n",
       "    <tr>\n",
       "      <th>696</th>\n",
       "      <td>0.040034</td>\n",
       "      <td>-1.320435</td>\n",
       "      <td>-0.643782</td>\n",
       "      <td>-0.019280</td>\n",
       "      <td>1.126663</td>\n",
       "      <td>-0.388293</td>\n",
       "      <td>1</td>\n",
       "      <td>0</td>\n",
       "      <td>0</td>\n",
       "      <td>0</td>\n",
       "      <td>0</td>\n",
       "      <td>28</td>\n",
       "      <td>2018-05-23</td>\n",
       "    </tr>\n",
       "    <tr>\n",
       "      <th>697</th>\n",
       "      <td>1.624567</td>\n",
       "      <td>-1.320435</td>\n",
       "      <td>-0.408580</td>\n",
       "      <td>-0.919030</td>\n",
       "      <td>-0.589690</td>\n",
       "      <td>-0.388293</td>\n",
       "      <td>1</td>\n",
       "      <td>0</td>\n",
       "      <td>0</td>\n",
       "      <td>0</td>\n",
       "      <td>1</td>\n",
       "      <td>18</td>\n",
       "      <td>2018-05-24</td>\n",
       "    </tr>\n",
       "    <tr>\n",
       "      <th>698</th>\n",
       "      <td>0.190942</td>\n",
       "      <td>-0.692937</td>\n",
       "      <td>-0.408580</td>\n",
       "      <td>-0.919030</td>\n",
       "      <td>-0.589690</td>\n",
       "      <td>-0.388293</td>\n",
       "      <td>0</td>\n",
       "      <td>0</td>\n",
       "      <td>0</td>\n",
       "      <td>1</td>\n",
       "      <td>1</td>\n",
       "      <td>25</td>\n",
       "      <td>2018-05-24</td>\n",
       "    </tr>\n",
       "    <tr>\n",
       "      <th>699</th>\n",
       "      <td>1.036026</td>\n",
       "      <td>0.562059</td>\n",
       "      <td>-0.408580</td>\n",
       "      <td>-0.019280</td>\n",
       "      <td>0.268487</td>\n",
       "      <td>-0.388293</td>\n",
       "      <td>0</td>\n",
       "      <td>0</td>\n",
       "      <td>0</td>\n",
       "      <td>1</td>\n",
       "      <td>0</td>\n",
       "      <td>15</td>\n",
       "      <td>2018-05-31</td>\n",
       "    </tr>\n",
       "  </tbody>\n",
       "</table>\n",
       "<p>700 rows × 13 columns</p>\n",
       "</div>"
      ],
      "text/plain": [
       "     Transportation Expense       Age  Body Mass Index  Children      Pets  \\\n",
       "0                  1.005844 -0.536062         0.767431  0.880469  0.268487   \n",
       "1                 -1.574681  2.130803         1.002633 -0.019280 -0.589690   \n",
       "2                 -0.654143  0.248310         1.002633 -0.919030 -0.589690   \n",
       "3                  0.854936  0.405184        -0.643782  0.880469 -0.589690   \n",
       "4                  1.005844 -0.536062         0.767431  0.880469  0.268487   \n",
       "..                      ...       ...              ...       ...       ...   \n",
       "695               -0.654143  0.562059        -1.114186  0.880469 -0.589690   \n",
       "696                0.040034 -1.320435        -0.643782 -0.019280  1.126663   \n",
       "697                1.624567 -1.320435        -0.408580 -0.919030 -0.589690   \n",
       "698                0.190942 -0.692937        -0.408580 -0.919030 -0.589690   \n",
       "699                1.036026  0.562059        -0.408580 -0.019280  0.268487   \n",
       "\n",
       "        Month  Reason 1  Reason 2  Reason 3  Reason 4  Education  ID  \\\n",
       "0    0.182726         0         0         0         1          0  11   \n",
       "1    0.182726         0         0         0         0          0  36   \n",
       "2    0.182726         0         0         0         1          0   3   \n",
       "3    0.182726         1         0         0         0          0   7   \n",
       "4    0.182726         0         0         0         1          0  11   \n",
       "..        ...       ...       ...       ...       ...        ...  ..   \n",
       "695 -0.388293         1         0         0         0          1  17   \n",
       "696 -0.388293         1         0         0         0          0  28   \n",
       "697 -0.388293         1         0         0         0          1  18   \n",
       "698 -0.388293         0         0         0         1          1  25   \n",
       "699 -0.388293         0         0         0         1          0  15   \n",
       "\n",
       "           Date  \n",
       "0    2015-07-07  \n",
       "1    2015-07-14  \n",
       "2    2015-07-15  \n",
       "3    2015-07-16  \n",
       "4    2015-07-23  \n",
       "..          ...  \n",
       "695  2018-05-23  \n",
       "696  2018-05-23  \n",
       "697  2018-05-24  \n",
       "698  2018-05-24  \n",
       "699  2018-05-31  \n",
       "\n",
       "[700 rows x 13 columns]"
      ]
     },
     "execution_count": 17,
     "metadata": {},
     "output_type": "execute_result"
    }
   ],
   "source": [
    "scaled_input.iloc[:,:-1]"
   ]
  },
  {
   "cell_type": "markdown",
   "id": "7cbbf023",
   "metadata": {},
   "source": [
    "## Shuffle and Split the training and test data"
   ]
  },
  {
   "cell_type": "code",
   "execution_count": 18,
   "id": "02fed173",
   "metadata": {
    "ExecuteTime": {
     "end_time": "2021-08-02T21:28:22.812741Z",
     "start_time": "2021-08-02T21:28:22.704879Z"
    }
   },
   "outputs": [],
   "source": [
    "# split the data whilst doing a \"speudo random\" shuffle.\n",
    "# unpack the tuple into training x, test x, training_targets, test_targets\n",
    "x_train, x_test, y_train, y_test = train_test_split(scaled_input.iloc[:,:-1], scaled_input.iloc[:,-3:], train_size=0.8, shuffle=True, random_state=20)"
   ]
  },
  {
   "cell_type": "code",
   "execution_count": 19,
   "id": "b40db873",
   "metadata": {
    "ExecuteTime": {
     "end_time": "2021-08-02T21:28:22.921565Z",
     "start_time": "2021-08-02T21:28:22.813658Z"
    }
   },
   "outputs": [
    {
     "data": {
      "text/plain": [
       "(560, 13)"
      ]
     },
     "execution_count": 19,
     "metadata": {},
     "output_type": "execute_result"
    }
   ],
   "source": [
    "x_train.shape"
   ]
  },
  {
   "cell_type": "code",
   "execution_count": 20,
   "id": "e74ff85b",
   "metadata": {
    "ExecuteTime": {
     "end_time": "2021-08-02T21:28:23.029933Z",
     "start_time": "2021-08-02T21:28:22.923563Z"
    }
   },
   "outputs": [
    {
     "data": {
      "text/plain": [
       "(560, 3)"
      ]
     },
     "execution_count": 20,
     "metadata": {},
     "output_type": "execute_result"
    }
   ],
   "source": [
    "y_train.shape"
   ]
  },
  {
   "cell_type": "code",
   "execution_count": 21,
   "id": "78bd85d2",
   "metadata": {
    "ExecuteTime": {
     "end_time": "2021-08-02T21:28:23.140248Z",
     "start_time": "2021-08-02T21:28:23.031742Z"
    }
   },
   "outputs": [
    {
     "data": {
      "text/plain": [
       "(140, 13)"
      ]
     },
     "execution_count": 21,
     "metadata": {},
     "output_type": "execute_result"
    }
   ],
   "source": [
    "x_test.shape"
   ]
  },
  {
   "cell_type": "code",
   "execution_count": 22,
   "id": "0df800d3",
   "metadata": {
    "ExecuteTime": {
     "end_time": "2021-08-02T21:28:23.234041Z",
     "start_time": "2021-08-02T21:28:23.144028Z"
    }
   },
   "outputs": [
    {
     "data": {
      "text/plain": [
       "(140, 3)"
      ]
     },
     "execution_count": 22,
     "metadata": {},
     "output_type": "execute_result"
    }
   ],
   "source": [
    "y_test.shape"
   ]
  },
  {
   "cell_type": "code",
   "execution_count": 23,
   "id": "c34ceb80",
   "metadata": {
    "ExecuteTime": {
     "end_time": "2021-08-02T21:28:23.359066Z",
     "start_time": "2021-08-02T21:28:23.236038Z"
    }
   },
   "outputs": [
    {
     "data": {
      "text/html": [
       "<div>\n",
       "<style scoped>\n",
       "    .dataframe tbody tr th:only-of-type {\n",
       "        vertical-align: middle;\n",
       "    }\n",
       "\n",
       "    .dataframe tbody tr th {\n",
       "        vertical-align: top;\n",
       "    }\n",
       "\n",
       "    .dataframe thead th {\n",
       "        text-align: right;\n",
       "    }\n",
       "</style>\n",
       "<table border=\"1\" class=\"dataframe\">\n",
       "  <thead>\n",
       "    <tr style=\"text-align: right;\">\n",
       "      <th></th>\n",
       "      <th>Transportation Expense</th>\n",
       "      <th>Age</th>\n",
       "      <th>Body Mass Index</th>\n",
       "      <th>Children</th>\n",
       "      <th>Pets</th>\n",
       "      <th>Month</th>\n",
       "      <th>Reason 1</th>\n",
       "      <th>Reason 2</th>\n",
       "      <th>Reason 3</th>\n",
       "      <th>Reason 4</th>\n",
       "      <th>Education</th>\n",
       "      <th>ID</th>\n",
       "      <th>Date</th>\n",
       "    </tr>\n",
       "  </thead>\n",
       "  <tbody>\n",
       "    <tr>\n",
       "      <th>535</th>\n",
       "      <td>-0.654143</td>\n",
       "      <td>0.248310</td>\n",
       "      <td>1.002633</td>\n",
       "      <td>-0.919030</td>\n",
       "      <td>-0.589690</td>\n",
       "      <td>1.324766</td>\n",
       "      <td>0</td>\n",
       "      <td>0</td>\n",
       "      <td>0</td>\n",
       "      <td>1</td>\n",
       "      <td>0</td>\n",
       "      <td>3</td>\n",
       "      <td>2017-11-10</td>\n",
       "    </tr>\n",
       "    <tr>\n",
       "      <th>281</th>\n",
       "      <td>1.036026</td>\n",
       "      <td>0.562059</td>\n",
       "      <td>-0.408580</td>\n",
       "      <td>-0.019280</td>\n",
       "      <td>0.268487</td>\n",
       "      <td>0.753746</td>\n",
       "      <td>0</td>\n",
       "      <td>0</td>\n",
       "      <td>0</td>\n",
       "      <td>1</td>\n",
       "      <td>0</td>\n",
       "      <td>15</td>\n",
       "      <td>2016-09-16</td>\n",
       "    </tr>\n",
       "    <tr>\n",
       "      <th>324</th>\n",
       "      <td>0.190942</td>\n",
       "      <td>1.032682</td>\n",
       "      <td>2.649049</td>\n",
       "      <td>-0.019280</td>\n",
       "      <td>-0.589690</td>\n",
       "      <td>1.324766</td>\n",
       "      <td>0</td>\n",
       "      <td>0</td>\n",
       "      <td>0</td>\n",
       "      <td>1</td>\n",
       "      <td>0</td>\n",
       "      <td>5</td>\n",
       "      <td>2016-11-14</td>\n",
       "    </tr>\n",
       "    <tr>\n",
       "      <th>645</th>\n",
       "      <td>-0.654143</td>\n",
       "      <td>0.248310</td>\n",
       "      <td>1.002633</td>\n",
       "      <td>-0.919030</td>\n",
       "      <td>-0.589690</td>\n",
       "      <td>-0.959313</td>\n",
       "      <td>0</td>\n",
       "      <td>0</td>\n",
       "      <td>0</td>\n",
       "      <td>1</td>\n",
       "      <td>0</td>\n",
       "      <td>3</td>\n",
       "      <td>2018-03-23</td>\n",
       "    </tr>\n",
       "    <tr>\n",
       "      <th>10</th>\n",
       "      <td>0.568211</td>\n",
       "      <td>-0.065439</td>\n",
       "      <td>-0.878984</td>\n",
       "      <td>2.679969</td>\n",
       "      <td>-0.589690</td>\n",
       "      <td>0.182726</td>\n",
       "      <td>1</td>\n",
       "      <td>0</td>\n",
       "      <td>0</td>\n",
       "      <td>0</td>\n",
       "      <td>0</td>\n",
       "      <td>20</td>\n",
       "      <td>2015-07-20</td>\n",
       "    </tr>\n",
       "    <tr>\n",
       "      <th>...</th>\n",
       "      <td>...</td>\n",
       "      <td>...</td>\n",
       "      <td>...</td>\n",
       "      <td>...</td>\n",
       "      <td>...</td>\n",
       "      <td>...</td>\n",
       "      <td>...</td>\n",
       "      <td>...</td>\n",
       "      <td>...</td>\n",
       "      <td>...</td>\n",
       "      <td>...</td>\n",
       "      <td>...</td>\n",
       "      <td>...</td>\n",
       "    </tr>\n",
       "    <tr>\n",
       "      <th>136</th>\n",
       "      <td>1.005844</td>\n",
       "      <td>-0.536062</td>\n",
       "      <td>0.767431</td>\n",
       "      <td>0.880469</td>\n",
       "      <td>0.268487</td>\n",
       "      <td>-1.530333</td>\n",
       "      <td>0</td>\n",
       "      <td>0</td>\n",
       "      <td>0</td>\n",
       "      <td>1</td>\n",
       "      <td>0</td>\n",
       "      <td>11</td>\n",
       "      <td>2016-01-28</td>\n",
       "    </tr>\n",
       "    <tr>\n",
       "      <th>430</th>\n",
       "      <td>2.092381</td>\n",
       "      <td>-1.320435</td>\n",
       "      <td>0.061825</td>\n",
       "      <td>-0.019280</td>\n",
       "      <td>2.843016</td>\n",
       "      <td>-0.388293</td>\n",
       "      <td>0</td>\n",
       "      <td>0</td>\n",
       "      <td>0</td>\n",
       "      <td>1</td>\n",
       "      <td>0</td>\n",
       "      <td>10</td>\n",
       "      <td>2017-05-11</td>\n",
       "    </tr>\n",
       "    <tr>\n",
       "      <th>32</th>\n",
       "      <td>0.190942</td>\n",
       "      <td>0.091435</td>\n",
       "      <td>0.532229</td>\n",
       "      <td>-0.019280</td>\n",
       "      <td>0.268487</td>\n",
       "      <td>0.468236</td>\n",
       "      <td>0</td>\n",
       "      <td>0</td>\n",
       "      <td>0</td>\n",
       "      <td>1</td>\n",
       "      <td>1</td>\n",
       "      <td>1</td>\n",
       "      <td>2015-08-27</td>\n",
       "    </tr>\n",
       "    <tr>\n",
       "      <th>449</th>\n",
       "      <td>0.356940</td>\n",
       "      <td>0.718933</td>\n",
       "      <td>-0.878984</td>\n",
       "      <td>-0.919030</td>\n",
       "      <td>-0.589690</td>\n",
       "      <td>-0.102784</td>\n",
       "      <td>0</td>\n",
       "      <td>0</td>\n",
       "      <td>0</td>\n",
       "      <td>1</td>\n",
       "      <td>0</td>\n",
       "      <td>24</td>\n",
       "      <td>2017-06-13</td>\n",
       "    </tr>\n",
       "    <tr>\n",
       "      <th>59</th>\n",
       "      <td>0.387122</td>\n",
       "      <td>1.660180</td>\n",
       "      <td>1.237836</td>\n",
       "      <td>0.880469</td>\n",
       "      <td>0.268487</td>\n",
       "      <td>0.753746</td>\n",
       "      <td>0</td>\n",
       "      <td>0</td>\n",
       "      <td>0</td>\n",
       "      <td>1</td>\n",
       "      <td>0</td>\n",
       "      <td>33</td>\n",
       "      <td>2015-09-11</td>\n",
       "    </tr>\n",
       "  </tbody>\n",
       "</table>\n",
       "<p>140 rows × 13 columns</p>\n",
       "</div>"
      ],
      "text/plain": [
       "     Transportation Expense       Age  Body Mass Index  Children      Pets  \\\n",
       "535               -0.654143  0.248310         1.002633 -0.919030 -0.589690   \n",
       "281                1.036026  0.562059        -0.408580 -0.019280  0.268487   \n",
       "324                0.190942  1.032682         2.649049 -0.019280 -0.589690   \n",
       "645               -0.654143  0.248310         1.002633 -0.919030 -0.589690   \n",
       "10                 0.568211 -0.065439        -0.878984  2.679969 -0.589690   \n",
       "..                      ...       ...              ...       ...       ...   \n",
       "136                1.005844 -0.536062         0.767431  0.880469  0.268487   \n",
       "430                2.092381 -1.320435         0.061825 -0.019280  2.843016   \n",
       "32                 0.190942  0.091435         0.532229 -0.019280  0.268487   \n",
       "449                0.356940  0.718933        -0.878984 -0.919030 -0.589690   \n",
       "59                 0.387122  1.660180         1.237836  0.880469  0.268487   \n",
       "\n",
       "        Month  Reason 1  Reason 2  Reason 3  Reason 4  Education  ID  \\\n",
       "535  1.324766         0         0         0         1          0   3   \n",
       "281  0.753746         0         0         0         1          0  15   \n",
       "324  1.324766         0         0         0         1          0   5   \n",
       "645 -0.959313         0         0         0         1          0   3   \n",
       "10   0.182726         1         0         0         0          0  20   \n",
       "..        ...       ...       ...       ...       ...        ...  ..   \n",
       "136 -1.530333         0         0         0         1          0  11   \n",
       "430 -0.388293         0         0         0         1          0  10   \n",
       "32   0.468236         0         0         0         1          1   1   \n",
       "449 -0.102784         0         0         0         1          0  24   \n",
       "59   0.753746         0         0         0         1          0  33   \n",
       "\n",
       "           Date  \n",
       "535  2017-11-10  \n",
       "281  2016-09-16  \n",
       "324  2016-11-14  \n",
       "645  2018-03-23  \n",
       "10   2015-07-20  \n",
       "..          ...  \n",
       "136  2016-01-28  \n",
       "430  2017-05-11  \n",
       "32   2015-08-27  \n",
       "449  2017-06-13  \n",
       "59   2015-09-11  \n",
       "\n",
       "[140 rows x 13 columns]"
      ]
     },
     "execution_count": 23,
     "metadata": {},
     "output_type": "execute_result"
    }
   ],
   "source": [
    "x_test"
   ]
  },
  {
   "cell_type": "markdown",
   "id": "68b2ae06",
   "metadata": {},
   "source": [
    "## Train the Model"
   ]
  },
  {
   "cell_type": "code",
   "execution_count": 24,
   "id": "c330b48d",
   "metadata": {
    "ExecuteTime": {
     "end_time": "2021-08-02T21:28:23.454362Z",
     "start_time": "2021-08-02T21:28:23.361056Z"
    }
   },
   "outputs": [],
   "source": [
    "# instantiate the regression object\n",
    "logistic_regression = LogisticRegression()"
   ]
  },
  {
   "cell_type": "code",
   "execution_count": 25,
   "id": "9486437d",
   "metadata": {
    "ExecuteTime": {
     "end_time": "2021-08-02T21:28:23.563038Z",
     "start_time": "2021-08-02T21:28:23.455359Z"
    }
   },
   "outputs": [
    {
     "data": {
      "text/plain": [
       "LogisticRegression()"
      ]
     },
     "execution_count": 25,
     "metadata": {},
     "output_type": "execute_result"
    }
   ],
   "source": [
    "# fit the regression to the training data and targets excluding the ID and the Date\n",
    "logistic_regression.fit(x_train.iloc[:,:-2], y_train.iloc[:,-1])"
   ]
  },
  {
   "cell_type": "code",
   "execution_count": 26,
   "id": "add0642d",
   "metadata": {
    "ExecuteTime": {
     "end_time": "2021-08-02T21:28:23.733581Z",
     "start_time": "2021-08-02T21:28:23.564035Z"
    }
   },
   "outputs": [
    {
     "data": {
      "text/plain": [
       "0.7732142857142857"
      ]
     },
     "execution_count": 26,
     "metadata": {},
     "output_type": "execute_result"
    }
   ],
   "source": [
    "# Evaluate the training accuracy\n",
    "logistic_regression.score(x_train.iloc[:,:-2], y_train.iloc[:,-1])"
   ]
  },
  {
   "cell_type": "markdown",
   "id": "765f1ea3",
   "metadata": {},
   "source": [
    "### Check the accuracy on the training manually"
   ]
  },
  {
   "cell_type": "code",
   "execution_count": 27,
   "id": "7699967e",
   "metadata": {
    "ExecuteTime": {
     "end_time": "2021-08-02T21:28:23.843899Z",
     "start_time": "2021-08-02T21:28:23.734580Z"
    }
   },
   "outputs": [
    {
     "data": {
      "text/plain": [
       "433"
      ]
     },
     "execution_count": 27,
     "metadata": {},
     "output_type": "execute_result"
    }
   ],
   "source": [
    "# extract the model predictions\n",
    "model_outputs = logistic_regression.predict(x_train.iloc[:,:-2])\n",
    "np.sum(model_outputs == y_train.iloc[:,-1])"
   ]
  },
  {
   "cell_type": "code",
   "execution_count": 28,
   "id": "9003a00c",
   "metadata": {
    "ExecuteTime": {
     "end_time": "2021-08-02T21:28:23.967718Z",
     "start_time": "2021-08-02T21:28:23.845866Z"
    }
   },
   "outputs": [
    {
     "data": {
      "text/plain": [
       "0.7732142857142857"
      ]
     },
     "execution_count": 28,
     "metadata": {},
     "output_type": "execute_result"
    }
   ],
   "source": [
    "# Calculate the total number of True entries\n",
    "np.sum(model_outputs == y_train.iloc[:,-1])/model_outputs.shape[0]"
   ]
  },
  {
   "cell_type": "markdown",
   "id": "ffe6afb8",
   "metadata": {},
   "source": [
    "## Summary Table"
   ]
  },
  {
   "cell_type": "code",
   "execution_count": 29,
   "id": "df506299",
   "metadata": {
    "ExecuteTime": {
     "end_time": "2021-08-02T21:28:24.107194Z",
     "start_time": "2021-08-02T21:28:23.968714Z"
    }
   },
   "outputs": [],
   "source": [
    "# Extract the intercept or \"bias\"\n",
    "intercept = logistic_regression.intercept_[0]"
   ]
  },
  {
   "cell_type": "code",
   "execution_count": 30,
   "id": "e939489e",
   "metadata": {
    "ExecuteTime": {
     "end_time": "2021-08-02T21:28:24.232132Z",
     "start_time": "2021-08-02T21:28:24.109188Z"
    }
   },
   "outputs": [],
   "source": [
    "# Extract the coefficients or \"weights\"\n",
    "coeffiecients = np.transpose(logistic_regression.coef_)"
   ]
  },
  {
   "cell_type": "code",
   "execution_count": 31,
   "id": "e8ad7104",
   "metadata": {
    "ExecuteTime": {
     "end_time": "2021-08-02T21:28:24.355174Z",
     "start_time": "2021-08-02T21:28:24.233133Z"
    }
   },
   "outputs": [],
   "source": [
    "# corresponding features\n",
    "features = scaled_input.iloc[:,:-3].columns.values"
   ]
  },
  {
   "cell_type": "code",
   "execution_count": 32,
   "id": "e495cc6c",
   "metadata": {
    "ExecuteTime": {
     "end_time": "2021-08-02T21:28:24.448275Z",
     "start_time": "2021-08-02T21:28:24.357172Z"
    }
   },
   "outputs": [
    {
     "data": {
      "text/html": [
       "<div>\n",
       "<style scoped>\n",
       "    .dataframe tbody tr th:only-of-type {\n",
       "        vertical-align: middle;\n",
       "    }\n",
       "\n",
       "    .dataframe tbody tr th {\n",
       "        vertical-align: top;\n",
       "    }\n",
       "\n",
       "    .dataframe thead th {\n",
       "        text-align: right;\n",
       "    }\n",
       "</style>\n",
       "<table border=\"1\" class=\"dataframe\">\n",
       "  <thead>\n",
       "    <tr style=\"text-align: right;\">\n",
       "      <th></th>\n",
       "      <th>Feature</th>\n",
       "      <th>Coefficient</th>\n",
       "    </tr>\n",
       "  </thead>\n",
       "  <tbody>\n",
       "    <tr>\n",
       "      <th>0</th>\n",
       "      <td>Transportation Expense</td>\n",
       "      <td>0.605284</td>\n",
       "    </tr>\n",
       "    <tr>\n",
       "      <th>1</th>\n",
       "      <td>Age</td>\n",
       "      <td>-0.169891</td>\n",
       "    </tr>\n",
       "    <tr>\n",
       "      <th>2</th>\n",
       "      <td>Body Mass Index</td>\n",
       "      <td>0.279811</td>\n",
       "    </tr>\n",
       "    <tr>\n",
       "      <th>3</th>\n",
       "      <td>Children</td>\n",
       "      <td>0.348262</td>\n",
       "    </tr>\n",
       "    <tr>\n",
       "      <th>4</th>\n",
       "      <td>Pets</td>\n",
       "      <td>-0.277396</td>\n",
       "    </tr>\n",
       "    <tr>\n",
       "      <th>5</th>\n",
       "      <td>Month</td>\n",
       "      <td>0.158930</td>\n",
       "    </tr>\n",
       "    <tr>\n",
       "      <th>6</th>\n",
       "      <td>Reason 1</td>\n",
       "      <td>2.800197</td>\n",
       "    </tr>\n",
       "    <tr>\n",
       "      <th>7</th>\n",
       "      <td>Reason 2</td>\n",
       "      <td>0.951884</td>\n",
       "    </tr>\n",
       "    <tr>\n",
       "      <th>8</th>\n",
       "      <td>Reason 3</td>\n",
       "      <td>3.115553</td>\n",
       "    </tr>\n",
       "    <tr>\n",
       "      <th>9</th>\n",
       "      <td>Reason 4</td>\n",
       "      <td>0.839001</td>\n",
       "    </tr>\n",
       "    <tr>\n",
       "      <th>10</th>\n",
       "      <td>Education</td>\n",
       "      <td>-0.210533</td>\n",
       "    </tr>\n",
       "  </tbody>\n",
       "</table>\n",
       "</div>"
      ],
      "text/plain": [
       "                   Feature  Coefficient\n",
       "0   Transportation Expense     0.605284\n",
       "1                      Age    -0.169891\n",
       "2          Body Mass Index     0.279811\n",
       "3                 Children     0.348262\n",
       "4                     Pets    -0.277396\n",
       "5                    Month     0.158930\n",
       "6                 Reason 1     2.800197\n",
       "7                 Reason 2     0.951884\n",
       "8                 Reason 3     3.115553\n",
       "9                 Reason 4     0.839001\n",
       "10               Education    -0.210533"
      ]
     },
     "execution_count": 32,
     "metadata": {},
     "output_type": "execute_result"
    }
   ],
   "source": [
    "summary = pd.DataFrame(columns=['Feature'], data = features)\n",
    "summary['Coefficient'] = coeffiecients\n",
    "summary"
   ]
  },
  {
   "cell_type": "code",
   "execution_count": 33,
   "id": "26a0480b",
   "metadata": {
    "ExecuteTime": {
     "end_time": "2021-08-02T21:28:24.558685Z",
     "start_time": "2021-08-02T21:28:24.450237Z"
    }
   },
   "outputs": [
    {
     "data": {
      "text/html": [
       "<div>\n",
       "<style scoped>\n",
       "    .dataframe tbody tr th:only-of-type {\n",
       "        vertical-align: middle;\n",
       "    }\n",
       "\n",
       "    .dataframe tbody tr th {\n",
       "        vertical-align: top;\n",
       "    }\n",
       "\n",
       "    .dataframe thead th {\n",
       "        text-align: right;\n",
       "    }\n",
       "</style>\n",
       "<table border=\"1\" class=\"dataframe\">\n",
       "  <thead>\n",
       "    <tr style=\"text-align: right;\">\n",
       "      <th></th>\n",
       "      <th>Feature</th>\n",
       "      <th>Coefficient</th>\n",
       "    </tr>\n",
       "  </thead>\n",
       "  <tbody>\n",
       "    <tr>\n",
       "      <th>0</th>\n",
       "      <td>Intercept</td>\n",
       "      <td>-1.647455</td>\n",
       "    </tr>\n",
       "    <tr>\n",
       "      <th>1</th>\n",
       "      <td>Transportation Expense</td>\n",
       "      <td>0.605284</td>\n",
       "    </tr>\n",
       "    <tr>\n",
       "      <th>2</th>\n",
       "      <td>Age</td>\n",
       "      <td>-0.169891</td>\n",
       "    </tr>\n",
       "    <tr>\n",
       "      <th>3</th>\n",
       "      <td>Body Mass Index</td>\n",
       "      <td>0.279811</td>\n",
       "    </tr>\n",
       "    <tr>\n",
       "      <th>4</th>\n",
       "      <td>Children</td>\n",
       "      <td>0.348262</td>\n",
       "    </tr>\n",
       "    <tr>\n",
       "      <th>5</th>\n",
       "      <td>Pets</td>\n",
       "      <td>-0.277396</td>\n",
       "    </tr>\n",
       "    <tr>\n",
       "      <th>6</th>\n",
       "      <td>Month</td>\n",
       "      <td>0.158930</td>\n",
       "    </tr>\n",
       "    <tr>\n",
       "      <th>7</th>\n",
       "      <td>Reason 1</td>\n",
       "      <td>2.800197</td>\n",
       "    </tr>\n",
       "    <tr>\n",
       "      <th>8</th>\n",
       "      <td>Reason 2</td>\n",
       "      <td>0.951884</td>\n",
       "    </tr>\n",
       "    <tr>\n",
       "      <th>9</th>\n",
       "      <td>Reason 3</td>\n",
       "      <td>3.115553</td>\n",
       "    </tr>\n",
       "    <tr>\n",
       "      <th>10</th>\n",
       "      <td>Reason 4</td>\n",
       "      <td>0.839001</td>\n",
       "    </tr>\n",
       "    <tr>\n",
       "      <th>11</th>\n",
       "      <td>Education</td>\n",
       "      <td>-0.210533</td>\n",
       "    </tr>\n",
       "  </tbody>\n",
       "</table>\n",
       "</div>"
      ],
      "text/plain": [
       "                   Feature  Coefficient\n",
       "0                Intercept    -1.647455\n",
       "1   Transportation Expense     0.605284\n",
       "2                      Age    -0.169891\n",
       "3          Body Mass Index     0.279811\n",
       "4                 Children     0.348262\n",
       "5                     Pets    -0.277396\n",
       "6                    Month     0.158930\n",
       "7                 Reason 1     2.800197\n",
       "8                 Reason 2     0.951884\n",
       "9                 Reason 3     3.115553\n",
       "10                Reason 4     0.839001\n",
       "11               Education    -0.210533"
      ]
     },
     "execution_count": 33,
     "metadata": {},
     "output_type": "execute_result"
    }
   ],
   "source": [
    "summary.index = summary.index+1\n",
    "summary.loc[0] = ['Intercept',intercept]\n",
    "summary = summary.sort_index()\n",
    "summary"
   ]
  },
  {
   "cell_type": "markdown",
   "id": "fc60c7cf",
   "metadata": {},
   "source": [
    "## Interpretation\n",
    "Logistic regression predicts the log(odds) coefficients. Therefore taking the exponential of the coefficients will yield a more intuiative value."
   ]
  },
  {
   "cell_type": "code",
   "execution_count": 34,
   "id": "855e0d36",
   "metadata": {
    "ExecuteTime": {
     "end_time": "2021-08-02T21:28:24.682978Z",
     "start_time": "2021-08-02T21:28:24.559683Z"
    }
   },
   "outputs": [
    {
     "data": {
      "text/html": [
       "<div>\n",
       "<style scoped>\n",
       "    .dataframe tbody tr th:only-of-type {\n",
       "        vertical-align: middle;\n",
       "    }\n",
       "\n",
       "    .dataframe tbody tr th {\n",
       "        vertical-align: top;\n",
       "    }\n",
       "\n",
       "    .dataframe thead th {\n",
       "        text-align: right;\n",
       "    }\n",
       "</style>\n",
       "<table border=\"1\" class=\"dataframe\">\n",
       "  <thead>\n",
       "    <tr style=\"text-align: right;\">\n",
       "      <th></th>\n",
       "      <th>Feature</th>\n",
       "      <th>Coefficient</th>\n",
       "      <th>Odds Ratio</th>\n",
       "    </tr>\n",
       "  </thead>\n",
       "  <tbody>\n",
       "    <tr>\n",
       "      <th>9</th>\n",
       "      <td>Reason 3</td>\n",
       "      <td>3.115553</td>\n",
       "      <td>22.545903</td>\n",
       "    </tr>\n",
       "    <tr>\n",
       "      <th>7</th>\n",
       "      <td>Reason 1</td>\n",
       "      <td>2.800197</td>\n",
       "      <td>16.447892</td>\n",
       "    </tr>\n",
       "    <tr>\n",
       "      <th>8</th>\n",
       "      <td>Reason 2</td>\n",
       "      <td>0.951884</td>\n",
       "      <td>2.590585</td>\n",
       "    </tr>\n",
       "    <tr>\n",
       "      <th>10</th>\n",
       "      <td>Reason 4</td>\n",
       "      <td>0.839001</td>\n",
       "      <td>2.314054</td>\n",
       "    </tr>\n",
       "    <tr>\n",
       "      <th>1</th>\n",
       "      <td>Transportation Expense</td>\n",
       "      <td>0.605284</td>\n",
       "      <td>1.831773</td>\n",
       "    </tr>\n",
       "    <tr>\n",
       "      <th>4</th>\n",
       "      <td>Children</td>\n",
       "      <td>0.348262</td>\n",
       "      <td>1.416604</td>\n",
       "    </tr>\n",
       "    <tr>\n",
       "      <th>3</th>\n",
       "      <td>Body Mass Index</td>\n",
       "      <td>0.279811</td>\n",
       "      <td>1.322880</td>\n",
       "    </tr>\n",
       "    <tr>\n",
       "      <th>6</th>\n",
       "      <td>Month</td>\n",
       "      <td>0.158930</td>\n",
       "      <td>1.172256</td>\n",
       "    </tr>\n",
       "    <tr>\n",
       "      <th>2</th>\n",
       "      <td>Age</td>\n",
       "      <td>-0.169891</td>\n",
       "      <td>0.843757</td>\n",
       "    </tr>\n",
       "    <tr>\n",
       "      <th>11</th>\n",
       "      <td>Education</td>\n",
       "      <td>-0.210533</td>\n",
       "      <td>0.810152</td>\n",
       "    </tr>\n",
       "    <tr>\n",
       "      <th>5</th>\n",
       "      <td>Pets</td>\n",
       "      <td>-0.277396</td>\n",
       "      <td>0.757754</td>\n",
       "    </tr>\n",
       "    <tr>\n",
       "      <th>0</th>\n",
       "      <td>Intercept</td>\n",
       "      <td>-1.647455</td>\n",
       "      <td>0.192539</td>\n",
       "    </tr>\n",
       "  </tbody>\n",
       "</table>\n",
       "</div>"
      ],
      "text/plain": [
       "                   Feature  Coefficient  Odds Ratio\n",
       "9                 Reason 3     3.115553   22.545903\n",
       "7                 Reason 1     2.800197   16.447892\n",
       "8                 Reason 2     0.951884    2.590585\n",
       "10                Reason 4     0.839001    2.314054\n",
       "1   Transportation Expense     0.605284    1.831773\n",
       "4                 Children     0.348262    1.416604\n",
       "3          Body Mass Index     0.279811    1.322880\n",
       "6                    Month     0.158930    1.172256\n",
       "2                      Age    -0.169891    0.843757\n",
       "11               Education    -0.210533    0.810152\n",
       "5                     Pets    -0.277396    0.757754\n",
       "0                Intercept    -1.647455    0.192539"
      ]
     },
     "execution_count": 34,
     "metadata": {},
     "output_type": "execute_result"
    }
   ],
   "source": [
    "# transform the coefficients\n",
    "summary['Odds Ratio'] = np.exp(summary.Coefficient)\n",
    "# order the features by importance. A higher value is more important.\n",
    "summary.sort_values('Odds Ratio', ascending = False)"
   ]
  },
  {
   "cell_type": "markdown",
   "id": "24636aba",
   "metadata": {},
   "source": [
    "If a coefficient is close to zero (If the odds ratio is close to 1), the feature is not important. A weight of zero implies that an input will be zeroed in the model. Do not mind negative coefficients (odds ratios is close to 0).\n",
    "\n",
    "For one unit change in the standardized feature, the odds increase by a multiple equal to the odds ratio (1=no change)\n",
    "\n",
    "The following features are considered to be less important according to the model (when given all features):\n",
    "* Daily Work Load Average\n",
    "* Distance to Work\n",
    "* weekday\n",
    "* Month\n",
    "\n",
    "This means that in comparison to the other features, these carry less impact but they might still be important to the overall accuracy of the model.\n",
    "\n",
    "Notice that all the \"Reason\" features are important in the following order:\n",
    "* Reason 3 - Misc (posion and other non-normal reasons)\n",
    "* Reason 1 - Various Diseases\n",
    "* Reason 2 - Pregnancy and Birth\n",
    "* Reason 4 - Light Diseases\n",
    "\n",
    "Following that, the Transportation Expense, Children, BMI, Age, Education and Pets are intermediate in importance as predictors.\n",
    "\n",
    "Drawbacks - the standardized data is difficult to interpret when comparing against non-standardized data. It is a tradeoff between increased accuracy (standardizing) and increased interpretability (when the underlying reasons are of interest more so than accuracy of the model). Since we are focussing on accurate predictors, standardizing is prefferable in this case."
   ]
  },
  {
   "cell_type": "markdown",
   "id": "ad25dd5e",
   "metadata": {},
   "source": [
    "## Backward Elimination\n",
    "We can simplify the model by eliminating features that contribute very little to the accuracy of the model. Coefficients with p-values of less than 0.05 may be eliminated. However, with sklearn the p-values are not included. Rather, we can infer that coefficient values close to zero renders an input obsolete. "
   ]
  },
  {
   "cell_type": "markdown",
   "id": "d4628098",
   "metadata": {},
   "source": [
    "## Test the model"
   ]
  },
  {
   "cell_type": "code",
   "execution_count": 35,
   "id": "7e7b9c3b",
   "metadata": {
    "ExecuteTime": {
     "end_time": "2021-08-02T21:28:24.791829Z",
     "start_time": "2021-08-02T21:28:24.684946Z"
    }
   },
   "outputs": [
    {
     "data": {
      "text/plain": [
       "0.75"
      ]
     },
     "execution_count": 35,
     "metadata": {},
     "output_type": "execute_result"
    }
   ],
   "source": [
    "logistic_regression.score(x_test.iloc[:,:-2], y_test.iloc[:,-1])"
   ]
  },
  {
   "cell_type": "code",
   "execution_count": 36,
   "id": "2b36b1c1",
   "metadata": {
    "ExecuteTime": {
     "end_time": "2021-08-02T21:28:24.902252Z",
     "start_time": "2021-08-02T21:28:24.792794Z"
    }
   },
   "outputs": [],
   "source": [
    "absence_probaility = x_test[['ID','Date']].copy()\n",
    "absence_probaility['Excessive Absence Probability'] = logistic_regression.predict_proba(x_test.iloc[:,:-2])[:,1]"
   ]
  },
  {
   "cell_type": "code",
   "execution_count": 37,
   "id": "30bb89a4",
   "metadata": {
    "ExecuteTime": {
     "end_time": "2021-08-02T21:28:25.011253Z",
     "start_time": "2021-08-02T21:28:24.904251Z"
    }
   },
   "outputs": [
    {
     "data": {
      "text/html": [
       "<div>\n",
       "<style scoped>\n",
       "    .dataframe tbody tr th:only-of-type {\n",
       "        vertical-align: middle;\n",
       "    }\n",
       "\n",
       "    .dataframe tbody tr th {\n",
       "        vertical-align: top;\n",
       "    }\n",
       "\n",
       "    .dataframe thead th {\n",
       "        text-align: right;\n",
       "    }\n",
       "</style>\n",
       "<table border=\"1\" class=\"dataframe\">\n",
       "  <thead>\n",
       "    <tr style=\"text-align: right;\">\n",
       "      <th></th>\n",
       "      <th>ID</th>\n",
       "      <th>Date</th>\n",
       "      <th>Excessive Absence Probability</th>\n",
       "    </tr>\n",
       "  </thead>\n",
       "  <tbody>\n",
       "    <tr>\n",
       "      <th>535</th>\n",
       "      <td>3</td>\n",
       "      <td>2017-11-10</td>\n",
       "      <td>0.286596</td>\n",
       "    </tr>\n",
       "    <tr>\n",
       "      <th>281</th>\n",
       "      <td>15</td>\n",
       "      <td>2016-09-16</td>\n",
       "      <td>0.412758</td>\n",
       "    </tr>\n",
       "    <tr>\n",
       "      <th>324</th>\n",
       "      <td>5</td>\n",
       "      <td>2016-11-14</td>\n",
       "      <td>0.559792</td>\n",
       "    </tr>\n",
       "    <tr>\n",
       "      <th>645</th>\n",
       "      <td>3</td>\n",
       "      <td>2018-03-23</td>\n",
       "      <td>0.218405</td>\n",
       "    </tr>\n",
       "    <tr>\n",
       "      <th>10</th>\n",
       "      <td>20</td>\n",
       "      <td>2015-07-20</td>\n",
       "      <td>0.915891</td>\n",
       "    </tr>\n",
       "    <tr>\n",
       "      <th>...</th>\n",
       "      <td>...</td>\n",
       "      <td>...</td>\n",
       "      <td>...</td>\n",
       "    </tr>\n",
       "    <tr>\n",
       "      <th>136</th>\n",
       "      <td>11</td>\n",
       "      <td>2016-01-28</td>\n",
       "      <td>0.523761</td>\n",
       "    </tr>\n",
       "    <tr>\n",
       "      <th>430</th>\n",
       "      <td>10</td>\n",
       "      <td>2017-05-11</td>\n",
       "      <td>0.460729</td>\n",
       "    </tr>\n",
       "    <tr>\n",
       "      <th>32</th>\n",
       "      <td>1</td>\n",
       "      <td>2015-08-27</td>\n",
       "      <td>0.315010</td>\n",
       "    </tr>\n",
       "    <tr>\n",
       "      <th>449</th>\n",
       "      <td>24</td>\n",
       "      <td>2017-06-13</td>\n",
       "      <td>0.243550</td>\n",
       "    </tr>\n",
       "    <tr>\n",
       "      <th>59</th>\n",
       "      <td>33</td>\n",
       "      <td>2015-09-11</td>\n",
       "      <td>0.460613</td>\n",
       "    </tr>\n",
       "  </tbody>\n",
       "</table>\n",
       "<p>140 rows × 3 columns</p>\n",
       "</div>"
      ],
      "text/plain": [
       "     ID        Date  Excessive Absence Probability\n",
       "535   3  2017-11-10                       0.286596\n",
       "281  15  2016-09-16                       0.412758\n",
       "324   5  2016-11-14                       0.559792\n",
       "645   3  2018-03-23                       0.218405\n",
       "10   20  2015-07-20                       0.915891\n",
       "..   ..         ...                            ...\n",
       "136  11  2016-01-28                       0.523761\n",
       "430  10  2017-05-11                       0.460729\n",
       "32    1  2015-08-27                       0.315010\n",
       "449  24  2017-06-13                       0.243550\n",
       "59   33  2015-09-11                       0.460613\n",
       "\n",
       "[140 rows x 3 columns]"
      ]
     },
     "execution_count": 37,
     "metadata": {},
     "output_type": "execute_result"
    }
   ],
   "source": [
    "absence_probaility"
   ]
  },
  {
   "cell_type": "markdown",
   "id": "4c6eefb7",
   "metadata": {},
   "source": [
    "The model was 75% accurate on the test data. Below, are the probabilities of any given individual in the test data of being excessivly absent on a particular date in the past. \n",
    "\n",
    "We can use this to feed data in to the model \"on the day\" when an individual needs to be absent in order to \"guess\" how long said individual will be absent for. In otherwords will the individual be absent for longer than the median (3 hours) on that day."
   ]
  },
  {
   "cell_type": "code",
   "execution_count": null,
   "id": "bb004b4c",
   "metadata": {},
   "outputs": [],
   "source": []
  }
 ],
 "metadata": {
  "kernelspec": {
   "display_name": "Python 3",
   "language": "python",
   "name": "python3"
  },
  "language_info": {
   "codemirror_mode": {
    "name": "ipython",
    "version": 3
   },
   "file_extension": ".py",
   "mimetype": "text/x-python",
   "name": "python",
   "nbconvert_exporter": "python",
   "pygments_lexer": "ipython3",
   "version": "3.9.5"
  }
 },
 "nbformat": 4,
 "nbformat_minor": 5
}
